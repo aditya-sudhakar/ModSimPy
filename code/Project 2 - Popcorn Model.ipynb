{
 "cells": [
  {
   "cell_type": "markdown",
   "metadata": {},
   "source": [
    "# Project 2 - Optimizing the Popcorn Cooking Process"
   ]
  },
  {
   "cell_type": "markdown",
   "metadata": {},
   "source": [
    "Question: What is the optimal surface area to volume ratio for popping popcorn at 232.2 degrees Celcius for a given time? Also, can we model the behavior of popcorn kernels at different times during cooking?\n",
    "\n"
   ]
  },
  {
   "cell_type": "markdown",
   "metadata": {},
   "source": [
    "Methodology: First, we related the specific heat equation and the thermal conducitivity equation to find the change in temperature at each layer of the popcorn kernels. We know the ideal popping temperature of popcorn kernels to be 180 degrees Celcius. We approximated a popping rate for each kernel as there are expected to be duds. \n",
    "\n",
    "Next, we will create a model that has a surface area of 25 cm^^2 and we will change the volume of the popcorn kernels with additional layers. Each layer will have exactly 50 kernels. We will apply our derived change in temperature equation for each individual layer in conjunction with our pop rate to find the total number of unpopped, popped, and burnt kernels over "
   ]
  },
  {
   "cell_type": "markdown",
   "metadata": {},
   "source": [
    "Assumptions: \n",
    "- Pan starts at 232.2 degrees Celcius\n",
    "- The outside rim of the constraining cylinder does not affect cross sectional area\n",
    "- Ignore oil temperature's effect on the system\n",
    "- The thermal conducivity of rice (.031 w/mk) is similar to that of a popcorn kernel as they are both hard starches\n",
    "- Kernels are not changing layers at any time. "
   ]
  },
  {
   "cell_type": "markdown",
   "metadata": {},
   "source": [
    "Results: We expect to have a graph that has change in temperature over time for each layer of kernels and that each layer of kernels will take more time to reach the same change in temperature. Then, we set a cutoff time for all layers (t_final). Our final result will return a table / graph."
   ]
  },
  {
   "cell_type": "markdown",
   "metadata": {},
   "source": [
    "Interpretation: From our results, we will be able to inform the user with a give time and a given number of popcorn kernels one can find the ideal volume of kernels to maximize popcorn output."
   ]
  },
  {
   "cell_type": "code",
   "execution_count": 2,
   "metadata": {},
   "outputs": [],
   "source": [
    "#figures appear in notebook\n",
    "%matplotlib inline \n",
    "\n",
    "%config InteractiveShell.ast_node_interactivity='last_expr_or_assign'\n",
    "\n",
    "#import modsim functions\n",
    "from modsim import *  \n",
    "from pandas import read_html "
   ]
  },
  {
   "cell_type": "code",
   "execution_count": 15,
   "metadata": {},
   "outputs": [
    {
     "data": {
      "text/html": [
       "<div>\n",
       "<style scoped>\n",
       "    .dataframe tbody tr th:only-of-type {\n",
       "        vertical-align: middle;\n",
       "    }\n",
       "\n",
       "    .dataframe tbody tr th {\n",
       "        vertical-align: top;\n",
       "    }\n",
       "\n",
       "    .dataframe thead th {\n",
       "        text-align: right;\n",
       "    }\n",
       "</style>\n",
       "<table border=\"1\" class=\"dataframe\">\n",
       "  <thead>\n",
       "    <tr style=\"text-align: right;\">\n",
       "      <th></th>\n",
       "      <th>values</th>\n",
       "    </tr>\n",
       "  </thead>\n",
       "  <tbody>\n",
       "    <tr>\n",
       "      <th>kernels</th>\n",
       "      <td>10</td>\n",
       "    </tr>\n",
       "    <tr>\n",
       "      <th>popped</th>\n",
       "      <td>0</td>\n",
       "    </tr>\n",
       "    <tr>\n",
       "      <th>unpoped</th>\n",
       "      <td>0</td>\n",
       "    </tr>\n",
       "  </tbody>\n",
       "</table>\n",
       "</div>"
      ],
      "text/plain": [
       "kernels    10\n",
       "popped      0\n",
       "unpoped     0\n",
       "dtype: int64"
      ]
     },
     "execution_count": 15,
     "metadata": {},
     "output_type": "execute_result"
    }
   ],
   "source": [
    "system = System(t_0 = 0,\n",
    "                t_final = 60,   #Number of time steps\n",
    "                pop_c = 1.510,  #Specific heat of popcorn kernel (J/K)\n",
    "                c_al = 0.900,   #Specific heat of aluminum pan   (J/K)\n",
    "                pop_rate = 0.0, #Rate from experimental testing\n",
    "                pop_sa = 10,    #Surface area of kernels touching pan (cm^2)\n",
    "                pop_vol = 10,   #Volume of the all kernels (cm^3)\n",
    "                deltat = 0,     #Change in temperature of popcorn kernels (C)\n",
    "                al_k = 205,     #Conductivity of aluminum pan (w/mk)\n",
    "                pop_k = .031,   #Conductivity of rice (w/mk)\n",
    "                al_d = 0,       #Thickness of pan (cm)\n",
    "                pop_m = 0)      #Mass of popcorn kernels (g)\n",
    "                \n",
    "\n",
    "state = State(kernels = 10, #Starting number of kernels\n",
    "              popped = 0,\n",
    "              unpoped = 0,\n",
    "              burnt = 0)"
   ]
  },
  {
   "cell_type": "code",
   "execution_count": 16,
   "metadata": {},
   "outputs": [],
   "source": [
    "def update_func(state, system):\n",
    "    \n",
    "    unpack(system)\n",
    "    \n",
    "    dp = \n",
    "    \n",
    "    \n",
    "    \n",
    "    \n",
    "    \n",
    "    \n",
    "    \n",
    "    \n",
    "    \n",
    "    \n",
    "    \n",
    "    \n",
    "    \n",
    "    \n",
    "    \n",
    "    state.kernels -= dp\n",
    "    state.popped += dp\n",
    "    \n",
    "    return state"
   ]
  },
  {
   "cell_type": "code",
   "execution_count": 17,
   "metadata": {},
   "outputs": [
    {
     "data": {
      "text/html": [
       "<div>\n",
       "<style scoped>\n",
       "    .dataframe tbody tr th:only-of-type {\n",
       "        vertical-align: middle;\n",
       "    }\n",
       "\n",
       "    .dataframe tbody tr th {\n",
       "        vertical-align: top;\n",
       "    }\n",
       "\n",
       "    .dataframe thead th {\n",
       "        text-align: right;\n",
       "    }\n",
       "</style>\n",
       "<table border=\"1\" class=\"dataframe\">\n",
       "  <thead>\n",
       "    <tr style=\"text-align: right;\">\n",
       "      <th></th>\n",
       "      <th>values</th>\n",
       "    </tr>\n",
       "  </thead>\n",
       "  <tbody>\n",
       "    <tr>\n",
       "      <th>kernels</th>\n",
       "      <td>8</td>\n",
       "    </tr>\n",
       "    <tr>\n",
       "      <th>popped</th>\n",
       "      <td>2</td>\n",
       "    </tr>\n",
       "    <tr>\n",
       "      <th>unpoped</th>\n",
       "      <td>0</td>\n",
       "    </tr>\n",
       "  </tbody>\n",
       "</table>\n",
       "</div>"
      ],
      "text/plain": [
       "kernels    8\n",
       "popped     2\n",
       "unpoped    0\n",
       "dtype: int64"
      ]
     },
     "execution_count": 17,
     "metadata": {},
     "output_type": "execute_result"
    }
   ],
   "source": [
    "results = update_func(state, system)"
   ]
  },
  {
   "cell_type": "code",
   "execution_count": null,
   "metadata": {},
   "outputs": [],
   "source": []
  }
 ],
 "metadata": {
  "kernelspec": {
   "display_name": "Python 3",
   "language": "python",
   "name": "python3"
  },
  "language_info": {
   "codemirror_mode": {
    "name": "ipython",
    "version": 3
   },
   "file_extension": ".py",
   "mimetype": "text/x-python",
   "name": "python",
   "nbconvert_exporter": "python",
   "pygments_lexer": "ipython3",
   "version": "3.6.6"
  }
 },
 "nbformat": 4,
 "nbformat_minor": 2
}
